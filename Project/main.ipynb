{
 "cells": [
  {
   "cell_type": "code",
   "execution_count": null,
   "id": "initial_id",
   "metadata": {
    "collapsed": true,
    "is_executing": true
   },
   "outputs": [],
   "source": [
    "import pandas as pd\n",
    "\n",
    "# Загрузим датасет\n",
    "df = pd.read_csv('olymp.csv', delimiter = ',')\n",
    "\n",
    "# Группируем данные по годам и вычисляем средний возраст для каждого года\n",
    "average_age_by_year = df.groupby('Year')['Age'].mean()\n",
    "\n",
    "# Находим год с минимальным средним возрастом\n",
    "min_year = average_age_by_year.idxmin()\n",
    "\n",
    "print(min_year)"
   ]
  },
  {
   "cell_type": "markdown",
   "source": [
    "Год проведения Олимпиады с минимальным средним возрастом атлетов: "
   ],
   "metadata": {
    "collapsed": false
   },
   "id": "5455ca384d1d8118"
  },
  {
   "cell_type": "code",
   "execution_count": null,
   "outputs": [],
   "source": [
    "# Используем метод nunique() для подсчета уникальных атлетов по виду спорта (Sport)\n",
    "athlete_count_by_sport = df.groupby('Sport')['ID'].nunique()\n",
    "\n",
    "# Найдем вид спорта с максимальным количеством уникальных атлетов\n",
    "most_popular_sport = athlete_count_by_sport.idxmax()\n",
    "\n",
    "print(most_popular_sport)"
   ],
   "metadata": {
    "collapsed": false
   },
   "id": "1b17c334fada0420"
  },
  {
   "cell_type": "markdown",
   "source": [
    "Самый многочисленный вид спорта по количеству уникальных атлетов: "
   ],
   "metadata": {
    "collapsed": false
   },
   "id": "1a553422f26da559"
  },
  {
   "cell_type": "markdown",
   "source": [],
   "metadata": {
    "collapsed": false
   },
   "id": "e7bc1130cb6f18c0"
  }
 ],
 "metadata": {
  "kernelspec": {
   "display_name": "Python 3",
   "language": "python",
   "name": "python3"
  },
  "language_info": {
   "codemirror_mode": {
    "name": "ipython",
    "version": 2
   },
   "file_extension": ".py",
   "mimetype": "text/x-python",
   "name": "python",
   "nbconvert_exporter": "python",
   "pygments_lexer": "ipython2",
   "version": "2.7.6"
  }
 },
 "nbformat": 4,
 "nbformat_minor": 5
}
