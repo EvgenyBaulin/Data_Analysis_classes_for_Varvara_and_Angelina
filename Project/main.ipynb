{
 "cells": [
  {
   "cell_type": "code",
   "execution_count": 94,
   "id": "initial_id",
   "metadata": {
    "collapsed": true,
    "ExecuteTime": {
     "end_time": "2023-10-08T19:49:03.078291Z",
     "start_time": "2023-10-08T19:49:03.059500Z"
    }
   },
   "outputs": [
    {
     "data": {
      "text/plain": "     State    Sex     Age Group  Bachelor's Degree Holders  \\\n0  Alabama  Total  25 and older                     885357   \n1  Alabama  Total      25 to 39                     268924   \n2  Alabama  Total      40 to 64                     418480   \n3  Alabama  Total  65 and older                     197953   \n4  Alabama   Male  25 and older                     405618   \n\n   Science and Engineering  Science and Engineering Related Fields  Business  \\\n0                   263555                                   98445    210147   \n1                    90736                                   32378     58515   \n2                   115762                                   46724    112271   \n3                    57057                                   19343     39361   \n4                   159366                                   26004    113909   \n\n   Education  Arts, Humanities and Others  \n0     141071                       172139  \n1      29342                        57953  \n2      63875                        79848  \n3      47854                        34338  \n4      29490                        76849  ",
      "text/html": "<div>\n<style scoped>\n    .dataframe tbody tr th:only-of-type {\n        vertical-align: middle;\n    }\n\n    .dataframe tbody tr th {\n        vertical-align: top;\n    }\n\n    .dataframe thead th {\n        text-align: right;\n    }\n</style>\n<table border=\"1\" class=\"dataframe\">\n  <thead>\n    <tr style=\"text-align: right;\">\n      <th></th>\n      <th>State</th>\n      <th>Sex</th>\n      <th>Age Group</th>\n      <th>Bachelor's Degree Holders</th>\n      <th>Science and Engineering</th>\n      <th>Science and Engineering Related Fields</th>\n      <th>Business</th>\n      <th>Education</th>\n      <th>Arts, Humanities and Others</th>\n    </tr>\n  </thead>\n  <tbody>\n    <tr>\n      <th>0</th>\n      <td>Alabama</td>\n      <td>Total</td>\n      <td>25 and older</td>\n      <td>885357</td>\n      <td>263555</td>\n      <td>98445</td>\n      <td>210147</td>\n      <td>141071</td>\n      <td>172139</td>\n    </tr>\n    <tr>\n      <th>1</th>\n      <td>Alabama</td>\n      <td>Total</td>\n      <td>25 to 39</td>\n      <td>268924</td>\n      <td>90736</td>\n      <td>32378</td>\n      <td>58515</td>\n      <td>29342</td>\n      <td>57953</td>\n    </tr>\n    <tr>\n      <th>2</th>\n      <td>Alabama</td>\n      <td>Total</td>\n      <td>40 to 64</td>\n      <td>418480</td>\n      <td>115762</td>\n      <td>46724</td>\n      <td>112271</td>\n      <td>63875</td>\n      <td>79848</td>\n    </tr>\n    <tr>\n      <th>3</th>\n      <td>Alabama</td>\n      <td>Total</td>\n      <td>65 and older</td>\n      <td>197953</td>\n      <td>57057</td>\n      <td>19343</td>\n      <td>39361</td>\n      <td>47854</td>\n      <td>34338</td>\n    </tr>\n    <tr>\n      <th>4</th>\n      <td>Alabama</td>\n      <td>Male</td>\n      <td>25 and older</td>\n      <td>405618</td>\n      <td>159366</td>\n      <td>26004</td>\n      <td>113909</td>\n      <td>29490</td>\n      <td>76849</td>\n    </tr>\n  </tbody>\n</table>\n</div>"
     },
     "execution_count": 94,
     "metadata": {},
     "output_type": "execute_result"
    }
   ],
   "source": [
    "import pandas as pd\n",
    "\n",
    "df = pd.read_csv('data_set.csv')\n",
    "\n",
    "columns_to_convert = [\"Bachelor's Degree Holders\", \"Science and Engineering\", \"Science and Engineering Related Fields\",\n",
    "\t\t\t\t\t  \"Business\", \"Education\", \"Arts, Humanities and Others\"]\n",
    "\n",
    "for column in columns_to_convert:\n",
    "\tdf[column] = df[column].str.replace(',', '').astype(int)\n",
    "\n",
    "df.head(5)"
   ]
  },
  {
   "cell_type": "markdown",
   "source": [
    "\n",
    "Предоставленные данные представляют собой информацию о держателях степени бакалавра в разных возрастных группах и областях обучения в разных штатах США. В данном наборе данных доступны следующие переменные:\n",
    "\n",
    "1. **State (Штат)**: Это указывает на штат, для которого предоставлены статистические данные. В данном случае, это штат Алабама.\n",
    "\n",
    "2. **Sex (Пол)**: Эта переменная указывает на пол держателей степени бакалавра.\n",
    "\n",
    "3. **Age Group (Возрастная группа)**: Эта переменная разделяет держателей степени бакалавра на несколько возрастных групп. В данном случае, возрастные группы включают \"25 and older\" (25 лет и старше), \"25 to 39\" (от 25 до 39 лет), \"40 to 64\" (от 40 до 64 лет) и \"65 and older\" (65 лет и старше).\n",
    "\n",
    "4. **Bachelor's Degree Holders (Держатели степени бакалавра)**: Это количество людей, у которых есть степень бакалавра.\n",
    "\n",
    "5. **Science and Engineering (Наука и инженерия)**: Это количество держателей степени бакалавра, чья область обучения связана с наукой и инженерией.\n",
    "\n",
    "6. **Science and Engineering Related Fields (Смежные области науки и инженерии)**: Это количество держателей степени бакалавра, обучавшихся в областях, связанных с наукой и инженерией, но не являющихся точно научными или инженерными.\n",
    "\n",
    "7. **Business (Бизнес)**: Это количество держателей степени бакалавра, обучавшихся в области бизнеса.\n",
    "\n",
    "8. **Education (Образование)**: Это количество держателей степени бакалавра, обучавшихся в области образования.\n",
    "\n",
    "9. **Arts, Humanities and Others (Искусство, гуманитарные науки и другие области)**: Это количество держателей степени бакалавра, обучавшихся в областях, включая искусство, гуманитарные науки и другие, не включенные в вышеперечисленные категории.\n",
    "\n",
    "Данные, взяты с сайта https://www.kaggle.com/datasets/tjkyner/bachelor-degree-majors-by-age-sex-and-state/data."
   ],
   "metadata": {
    "collapsed": false
   },
   "id": "4595a6c9558a8bd5"
  },
  {
   "cell_type": "code",
   "execution_count": 95,
   "outputs": [
    {
     "data": {
      "text/plain": "         State     Sex     Age Group  Bachelor's Degree Holders  \\\n0      Alabama   Total  25 and older                     885357   \n4      Alabama    Male  25 and older                     405618   \n8      Alabama  Female  25 and older                     479739   \n12      Alaska   Total  25 and older                     146157   \n16      Alaska    Male  25 and older                      65820   \n..         ...     ...           ...                        ...   \n592  Wisconsin    Male  25 and older                     579921   \n596  Wisconsin  Female  25 and older                     678458   \n600    Wyoming   Total  25 and older                     113557   \n604    Wyoming    Male  25 and older                      54483   \n608    Wyoming  Female  25 and older                      59074   \n\n     Science and Engineering  Science and Engineering Related Fields  \\\n0                     263555                                   98445   \n4                     159366                                   26004   \n8                     104189                                   72441   \n12                     57375                                   14226   \n16                     30952                                    3713   \n..                       ...                                     ...   \n592                   246334                                   37759   \n596                   157128                                  110228   \n600                    41541                                   11843   \n604                    25971                                    3373   \n608                    15570                                    8470   \n\n     Business  Education  Arts, Humanities and Others  \n0      210147     141071                       172139  \n4      113909      29490                        76849  \n8       96238     111581                        95290  \n12      22507      17283                        34766  \n16      11869       4418                        14868  \n..        ...        ...                          ...  \n592    135142      48232                       112454  \n596    115325     141116                       154661  \n600     16670      22550                        20953  \n604      9814       5912                         9413  \n608      6856      16638                        11540  \n\n[153 rows x 9 columns]",
      "text/html": "<div>\n<style scoped>\n    .dataframe tbody tr th:only-of-type {\n        vertical-align: middle;\n    }\n\n    .dataframe tbody tr th {\n        vertical-align: top;\n    }\n\n    .dataframe thead th {\n        text-align: right;\n    }\n</style>\n<table border=\"1\" class=\"dataframe\">\n  <thead>\n    <tr style=\"text-align: right;\">\n      <th></th>\n      <th>State</th>\n      <th>Sex</th>\n      <th>Age Group</th>\n      <th>Bachelor's Degree Holders</th>\n      <th>Science and Engineering</th>\n      <th>Science and Engineering Related Fields</th>\n      <th>Business</th>\n      <th>Education</th>\n      <th>Arts, Humanities and Others</th>\n    </tr>\n  </thead>\n  <tbody>\n    <tr>\n      <th>0</th>\n      <td>Alabama</td>\n      <td>Total</td>\n      <td>25 and older</td>\n      <td>885357</td>\n      <td>263555</td>\n      <td>98445</td>\n      <td>210147</td>\n      <td>141071</td>\n      <td>172139</td>\n    </tr>\n    <tr>\n      <th>4</th>\n      <td>Alabama</td>\n      <td>Male</td>\n      <td>25 and older</td>\n      <td>405618</td>\n      <td>159366</td>\n      <td>26004</td>\n      <td>113909</td>\n      <td>29490</td>\n      <td>76849</td>\n    </tr>\n    <tr>\n      <th>8</th>\n      <td>Alabama</td>\n      <td>Female</td>\n      <td>25 and older</td>\n      <td>479739</td>\n      <td>104189</td>\n      <td>72441</td>\n      <td>96238</td>\n      <td>111581</td>\n      <td>95290</td>\n    </tr>\n    <tr>\n      <th>12</th>\n      <td>Alaska</td>\n      <td>Total</td>\n      <td>25 and older</td>\n      <td>146157</td>\n      <td>57375</td>\n      <td>14226</td>\n      <td>22507</td>\n      <td>17283</td>\n      <td>34766</td>\n    </tr>\n    <tr>\n      <th>16</th>\n      <td>Alaska</td>\n      <td>Male</td>\n      <td>25 and older</td>\n      <td>65820</td>\n      <td>30952</td>\n      <td>3713</td>\n      <td>11869</td>\n      <td>4418</td>\n      <td>14868</td>\n    </tr>\n    <tr>\n      <th>...</th>\n      <td>...</td>\n      <td>...</td>\n      <td>...</td>\n      <td>...</td>\n      <td>...</td>\n      <td>...</td>\n      <td>...</td>\n      <td>...</td>\n      <td>...</td>\n    </tr>\n    <tr>\n      <th>592</th>\n      <td>Wisconsin</td>\n      <td>Male</td>\n      <td>25 and older</td>\n      <td>579921</td>\n      <td>246334</td>\n      <td>37759</td>\n      <td>135142</td>\n      <td>48232</td>\n      <td>112454</td>\n    </tr>\n    <tr>\n      <th>596</th>\n      <td>Wisconsin</td>\n      <td>Female</td>\n      <td>25 and older</td>\n      <td>678458</td>\n      <td>157128</td>\n      <td>110228</td>\n      <td>115325</td>\n      <td>141116</td>\n      <td>154661</td>\n    </tr>\n    <tr>\n      <th>600</th>\n      <td>Wyoming</td>\n      <td>Total</td>\n      <td>25 and older</td>\n      <td>113557</td>\n      <td>41541</td>\n      <td>11843</td>\n      <td>16670</td>\n      <td>22550</td>\n      <td>20953</td>\n    </tr>\n    <tr>\n      <th>604</th>\n      <td>Wyoming</td>\n      <td>Male</td>\n      <td>25 and older</td>\n      <td>54483</td>\n      <td>25971</td>\n      <td>3373</td>\n      <td>9814</td>\n      <td>5912</td>\n      <td>9413</td>\n    </tr>\n    <tr>\n      <th>608</th>\n      <td>Wyoming</td>\n      <td>Female</td>\n      <td>25 and older</td>\n      <td>59074</td>\n      <td>15570</td>\n      <td>8470</td>\n      <td>6856</td>\n      <td>16638</td>\n      <td>11540</td>\n    </tr>\n  </tbody>\n</table>\n<p>153 rows × 9 columns</p>\n</div>"
     },
     "execution_count": 95,
     "metadata": {},
     "output_type": "execute_result"
    }
   ],
   "source": [
    "\n",
    "filtered_data_age = df[df['Age Group'] == '25 and older']\n",
    "\n",
    "filtered_data_age"
   ],
   "metadata": {
    "collapsed": false,
    "ExecuteTime": {
     "end_time": "2023-10-08T19:49:06.881486Z",
     "start_time": "2023-10-08T19:49:06.877907Z"
    }
   },
   "id": "bdb8f84a79057789"
  },
  {
   "cell_type": "markdown",
   "source": [
    "\n",
    "Мы отфильтровали данные для группы людей в возрасте 25 лет и старше. Это может быть полезно для анализа степеней бакалавра в более взрослых возрастных группах."
   ],
   "metadata": {
    "collapsed": false
   },
   "id": "b9c9878edce8cdfb"
  },
  {
   "cell_type": "code",
   "execution_count": 98,
   "outputs": [
    {
     "data": {
      "text/plain": "         State     Sex     Age Group  Bachelor's Degree Holders  \\\n0      Alabama   Total  25 and older                     885357   \n2      Alabama   Total      40 to 64                     418480   \n4      Alabama    Male  25 and older                     405618   \n8      Alabama  Female  25 and older                     479739   \n24     Arizona   Total  25 and older                    1492158   \n..         ...     ...           ...                        ...   \n589  Wisconsin   Total      25 to 39                     418338   \n590  Wisconsin   Total      40 to 64                     582291   \n592  Wisconsin    Male  25 and older                     579921   \n594  Wisconsin    Male      40 to 64                     267079   \n596  Wisconsin  Female  25 and older                     678458   \n\n     Science and Engineering  Science and Engineering Related Fields  \\\n0                     263555                                   98445   \n2                     115762                                   46724   \n4                     159366                                   26004   \n8                     104189                                   72441   \n24                    512718                                  151885   \n..                       ...                                     ...   \n589                   146957                                   47406   \n590                   182123                                   69388   \n592                   246334                                   37759   \n594                   109918                                   18683   \n596                   157128                                  110228   \n\n     Business  Education  Arts, Humanities and Others  \n0      210147     141071                       172139  \n2      112271      63875                        79848  \n4      113909      29490                        76849  \n8       96238     111581                        95290  \n24     312503     197335                       317717  \n..        ...        ...                          ...  \n589     83980      39823                       100172  \n590    132078      81199                       117503  \n592    135142      48232                       112454  \n594     65988      21828                        50662  \n596    115325     141116                       154661  \n\n[253 rows x 9 columns]",
      "text/html": "<div>\n<style scoped>\n    .dataframe tbody tr th:only-of-type {\n        vertical-align: middle;\n    }\n\n    .dataframe tbody tr th {\n        vertical-align: top;\n    }\n\n    .dataframe thead th {\n        text-align: right;\n    }\n</style>\n<table border=\"1\" class=\"dataframe\">\n  <thead>\n    <tr style=\"text-align: right;\">\n      <th></th>\n      <th>State</th>\n      <th>Sex</th>\n      <th>Age Group</th>\n      <th>Bachelor's Degree Holders</th>\n      <th>Science and Engineering</th>\n      <th>Science and Engineering Related Fields</th>\n      <th>Business</th>\n      <th>Education</th>\n      <th>Arts, Humanities and Others</th>\n    </tr>\n  </thead>\n  <tbody>\n    <tr>\n      <th>0</th>\n      <td>Alabama</td>\n      <td>Total</td>\n      <td>25 and older</td>\n      <td>885357</td>\n      <td>263555</td>\n      <td>98445</td>\n      <td>210147</td>\n      <td>141071</td>\n      <td>172139</td>\n    </tr>\n    <tr>\n      <th>2</th>\n      <td>Alabama</td>\n      <td>Total</td>\n      <td>40 to 64</td>\n      <td>418480</td>\n      <td>115762</td>\n      <td>46724</td>\n      <td>112271</td>\n      <td>63875</td>\n      <td>79848</td>\n    </tr>\n    <tr>\n      <th>4</th>\n      <td>Alabama</td>\n      <td>Male</td>\n      <td>25 and older</td>\n      <td>405618</td>\n      <td>159366</td>\n      <td>26004</td>\n      <td>113909</td>\n      <td>29490</td>\n      <td>76849</td>\n    </tr>\n    <tr>\n      <th>8</th>\n      <td>Alabama</td>\n      <td>Female</td>\n      <td>25 and older</td>\n      <td>479739</td>\n      <td>104189</td>\n      <td>72441</td>\n      <td>96238</td>\n      <td>111581</td>\n      <td>95290</td>\n    </tr>\n    <tr>\n      <th>24</th>\n      <td>Arizona</td>\n      <td>Total</td>\n      <td>25 and older</td>\n      <td>1492158</td>\n      <td>512718</td>\n      <td>151885</td>\n      <td>312503</td>\n      <td>197335</td>\n      <td>317717</td>\n    </tr>\n    <tr>\n      <th>...</th>\n      <td>...</td>\n      <td>...</td>\n      <td>...</td>\n      <td>...</td>\n      <td>...</td>\n      <td>...</td>\n      <td>...</td>\n      <td>...</td>\n      <td>...</td>\n    </tr>\n    <tr>\n      <th>589</th>\n      <td>Wisconsin</td>\n      <td>Total</td>\n      <td>25 to 39</td>\n      <td>418338</td>\n      <td>146957</td>\n      <td>47406</td>\n      <td>83980</td>\n      <td>39823</td>\n      <td>100172</td>\n    </tr>\n    <tr>\n      <th>590</th>\n      <td>Wisconsin</td>\n      <td>Total</td>\n      <td>40 to 64</td>\n      <td>582291</td>\n      <td>182123</td>\n      <td>69388</td>\n      <td>132078</td>\n      <td>81199</td>\n      <td>117503</td>\n    </tr>\n    <tr>\n      <th>592</th>\n      <td>Wisconsin</td>\n      <td>Male</td>\n      <td>25 and older</td>\n      <td>579921</td>\n      <td>246334</td>\n      <td>37759</td>\n      <td>135142</td>\n      <td>48232</td>\n      <td>112454</td>\n    </tr>\n    <tr>\n      <th>594</th>\n      <td>Wisconsin</td>\n      <td>Male</td>\n      <td>40 to 64</td>\n      <td>267079</td>\n      <td>109918</td>\n      <td>18683</td>\n      <td>65988</td>\n      <td>21828</td>\n      <td>50662</td>\n    </tr>\n    <tr>\n      <th>596</th>\n      <td>Wisconsin</td>\n      <td>Female</td>\n      <td>25 and older</td>\n      <td>678458</td>\n      <td>157128</td>\n      <td>110228</td>\n      <td>115325</td>\n      <td>141116</td>\n      <td>154661</td>\n    </tr>\n  </tbody>\n</table>\n<p>253 rows × 9 columns</p>\n</div>"
     },
     "execution_count": 98,
     "metadata": {},
     "output_type": "execute_result"
    }
   ],
   "source": [
    "filtered_data_engineering = df[df['Science and Engineering'] > 100000]\n",
    "\n",
    "filtered_data_engineering"
   ],
   "metadata": {
    "collapsed": false,
    "ExecuteTime": {
     "end_time": "2023-10-08T19:49:15.754873Z",
     "start_time": "2023-10-08T19:49:15.749180Z"
    }
   },
   "id": "5ec1076ecc773409"
  },
  {
   "cell_type": "markdown",
   "source": [
    "\n",
    "Мы отфильтровали данные для людей, обучавшихся в области науки и инженерии, и выбрали тех, у кого более 100 000 держателей степени бакалавра в этой области"
   ],
   "metadata": {
    "collapsed": false
   },
   "id": "8f4b0dc92b83e25d"
  },
  {
   "cell_type": "code",
   "execution_count": 100,
   "outputs": [
    {
     "data": {
      "text/plain": "         State     Sex     Age Group  Bachelor's Degree Holders  \\\n0      Alabama   Total  25 and older                     885357   \n1      Alabama   Total      25 to 39                     268924   \n2      Alabama   Total      40 to 64                     418480   \n4      Alabama    Male  25 and older                     405618   \n6      Alabama    Male      40 to 64                     184328   \n..         ...     ...           ...                        ...   \n590  Wisconsin   Total      40 to 64                     582291   \n592  Wisconsin    Male  25 and older                     579921   \n594  Wisconsin    Male      40 to 64                     267079   \n596  Wisconsin  Female  25 and older                     678458   \n598  Wisconsin  Female      40 to 64                     315212   \n\n     Science and Engineering  Science and Engineering Related Fields  \\\n0                     263555                                   98445   \n1                      90736                                   32378   \n2                     115762                                   46724   \n4                     159366                                   26004   \n6                      67977                                   12331   \n..                       ...                                     ...   \n590                   182123                                   69388   \n592                   246334                                   37759   \n594                   109918                                   18683   \n596                   157128                                  110228   \n598                    72205                                   50705   \n\n     Business  Education  Arts, Humanities and Others  \n0      210147     141071                       172139  \n1       58515      29342                        57953  \n2      112271      63875                        79848  \n4      113909      29490                        76849  \n6       54931      12820                        36269  \n..        ...        ...                          ...  \n590    132078      81199                       117503  \n592    135142      48232                       112454  \n594     65988      21828                        50662  \n596    115325     141116                       154661  \n598     66090      59371                        66841  \n\n[279 rows x 9 columns]",
      "text/html": "<div>\n<style scoped>\n    .dataframe tbody tr th:only-of-type {\n        vertical-align: middle;\n    }\n\n    .dataframe tbody tr th {\n        vertical-align: top;\n    }\n\n    .dataframe thead th {\n        text-align: right;\n    }\n</style>\n<table border=\"1\" class=\"dataframe\">\n  <thead>\n    <tr style=\"text-align: right;\">\n      <th></th>\n      <th>State</th>\n      <th>Sex</th>\n      <th>Age Group</th>\n      <th>Bachelor's Degree Holders</th>\n      <th>Science and Engineering</th>\n      <th>Science and Engineering Related Fields</th>\n      <th>Business</th>\n      <th>Education</th>\n      <th>Arts, Humanities and Others</th>\n    </tr>\n  </thead>\n  <tbody>\n    <tr>\n      <th>0</th>\n      <td>Alabama</td>\n      <td>Total</td>\n      <td>25 and older</td>\n      <td>885357</td>\n      <td>263555</td>\n      <td>98445</td>\n      <td>210147</td>\n      <td>141071</td>\n      <td>172139</td>\n    </tr>\n    <tr>\n      <th>1</th>\n      <td>Alabama</td>\n      <td>Total</td>\n      <td>25 to 39</td>\n      <td>268924</td>\n      <td>90736</td>\n      <td>32378</td>\n      <td>58515</td>\n      <td>29342</td>\n      <td>57953</td>\n    </tr>\n    <tr>\n      <th>2</th>\n      <td>Alabama</td>\n      <td>Total</td>\n      <td>40 to 64</td>\n      <td>418480</td>\n      <td>115762</td>\n      <td>46724</td>\n      <td>112271</td>\n      <td>63875</td>\n      <td>79848</td>\n    </tr>\n    <tr>\n      <th>4</th>\n      <td>Alabama</td>\n      <td>Male</td>\n      <td>25 and older</td>\n      <td>405618</td>\n      <td>159366</td>\n      <td>26004</td>\n      <td>113909</td>\n      <td>29490</td>\n      <td>76849</td>\n    </tr>\n    <tr>\n      <th>6</th>\n      <td>Alabama</td>\n      <td>Male</td>\n      <td>40 to 64</td>\n      <td>184328</td>\n      <td>67977</td>\n      <td>12331</td>\n      <td>54931</td>\n      <td>12820</td>\n      <td>36269</td>\n    </tr>\n    <tr>\n      <th>...</th>\n      <td>...</td>\n      <td>...</td>\n      <td>...</td>\n      <td>...</td>\n      <td>...</td>\n      <td>...</td>\n      <td>...</td>\n      <td>...</td>\n      <td>...</td>\n    </tr>\n    <tr>\n      <th>590</th>\n      <td>Wisconsin</td>\n      <td>Total</td>\n      <td>40 to 64</td>\n      <td>582291</td>\n      <td>182123</td>\n      <td>69388</td>\n      <td>132078</td>\n      <td>81199</td>\n      <td>117503</td>\n    </tr>\n    <tr>\n      <th>592</th>\n      <td>Wisconsin</td>\n      <td>Male</td>\n      <td>25 and older</td>\n      <td>579921</td>\n      <td>246334</td>\n      <td>37759</td>\n      <td>135142</td>\n      <td>48232</td>\n      <td>112454</td>\n    </tr>\n    <tr>\n      <th>594</th>\n      <td>Wisconsin</td>\n      <td>Male</td>\n      <td>40 to 64</td>\n      <td>267079</td>\n      <td>109918</td>\n      <td>18683</td>\n      <td>65988</td>\n      <td>21828</td>\n      <td>50662</td>\n    </tr>\n    <tr>\n      <th>596</th>\n      <td>Wisconsin</td>\n      <td>Female</td>\n      <td>25 and older</td>\n      <td>678458</td>\n      <td>157128</td>\n      <td>110228</td>\n      <td>115325</td>\n      <td>141116</td>\n      <td>154661</td>\n    </tr>\n    <tr>\n      <th>598</th>\n      <td>Wisconsin</td>\n      <td>Female</td>\n      <td>40 to 64</td>\n      <td>315212</td>\n      <td>72205</td>\n      <td>50705</td>\n      <td>66090</td>\n      <td>59371</td>\n      <td>66841</td>\n    </tr>\n  </tbody>\n</table>\n<p>279 rows × 9 columns</p>\n</div>"
     },
     "execution_count": 100,
     "metadata": {},
     "output_type": "execute_result"
    }
   ],
   "source": [
    "\n",
    "filtered_data_business = df[df['Business'] > 50000]\n",
    "\n",
    "filtered_data_business"
   ],
   "metadata": {
    "collapsed": false,
    "ExecuteTime": {
     "end_time": "2023-10-08T19:49:28.298794Z",
     "start_time": "2023-10-08T19:49:28.286882Z"
    }
   },
   "id": "7fb38c2b0398a4ce"
  },
  {
   "cell_type": "markdown",
   "source": [
    "\n",
    "Мы отфильтровали данные для группы людей, которые обучались в области бизнеса и у которых более 50,000 держателей степени бакалавра."
   ],
   "metadata": {
    "collapsed": false
   },
   "id": "16279b5f7ab121c6"
  },
  {
   "cell_type": "code",
   "execution_count": 101,
   "outputs": [
    {
     "data": {
      "text/plain": "         State     Sex     Age Group  Bachelor's Degree Holders  \\\n0      Alabama   Total  25 and older                     885357   \n1      Alabama   Total      25 to 39                     268924   \n2      Alabama   Total      40 to 64                     418480   \n3      Alabama   Total  65 and older                     197953   \n4      Alabama    Male  25 and older                     405618   \n..         ...     ...           ...                        ...   \n598  Wisconsin  Female      40 to 64                     315212   \n599  Wisconsin  Female  65 and older                     124349   \n600    Wyoming   Total  25 and older                     113557   \n602    Wyoming   Total      40 to 64                      50686   \n608    Wyoming  Female  25 and older                      59074   \n\n     Science and Engineering  Science and Engineering Related Fields  \\\n0                     263555                                   98445   \n1                      90736                                   32378   \n2                     115762                                   46724   \n3                      57057                                   19343   \n4                     159366                                   26004   \n..                       ...                                     ...   \n598                    72205                                   50705   \n599                    18527                                   21247   \n600                    41541                                   11843   \n602                    16255                                    5424   \n608                    15570                                    8470   \n\n     Business  Education  Arts, Humanities and Others  \n0      210147     141071                       172139  \n1       58515      29342                        57953  \n2      112271      63875                        79848  \n3       39361      47854                        34338  \n4      113909      29490                        76849  \n..        ...        ...                          ...  \n598     66090      59371                        66841  \n599      7965      49968                        26642  \n600     16670      22550                        20953  \n602      8904      10707                         9396  \n608      6856      16638                        11540  \n\n[468 rows x 9 columns]",
      "text/html": "<div>\n<style scoped>\n    .dataframe tbody tr th:only-of-type {\n        vertical-align: middle;\n    }\n\n    .dataframe tbody tr th {\n        vertical-align: top;\n    }\n\n    .dataframe thead th {\n        text-align: right;\n    }\n</style>\n<table border=\"1\" class=\"dataframe\">\n  <thead>\n    <tr style=\"text-align: right;\">\n      <th></th>\n      <th>State</th>\n      <th>Sex</th>\n      <th>Age Group</th>\n      <th>Bachelor's Degree Holders</th>\n      <th>Science and Engineering</th>\n      <th>Science and Engineering Related Fields</th>\n      <th>Business</th>\n      <th>Education</th>\n      <th>Arts, Humanities and Others</th>\n    </tr>\n  </thead>\n  <tbody>\n    <tr>\n      <th>0</th>\n      <td>Alabama</td>\n      <td>Total</td>\n      <td>25 and older</td>\n      <td>885357</td>\n      <td>263555</td>\n      <td>98445</td>\n      <td>210147</td>\n      <td>141071</td>\n      <td>172139</td>\n    </tr>\n    <tr>\n      <th>1</th>\n      <td>Alabama</td>\n      <td>Total</td>\n      <td>25 to 39</td>\n      <td>268924</td>\n      <td>90736</td>\n      <td>32378</td>\n      <td>58515</td>\n      <td>29342</td>\n      <td>57953</td>\n    </tr>\n    <tr>\n      <th>2</th>\n      <td>Alabama</td>\n      <td>Total</td>\n      <td>40 to 64</td>\n      <td>418480</td>\n      <td>115762</td>\n      <td>46724</td>\n      <td>112271</td>\n      <td>63875</td>\n      <td>79848</td>\n    </tr>\n    <tr>\n      <th>3</th>\n      <td>Alabama</td>\n      <td>Total</td>\n      <td>65 and older</td>\n      <td>197953</td>\n      <td>57057</td>\n      <td>19343</td>\n      <td>39361</td>\n      <td>47854</td>\n      <td>34338</td>\n    </tr>\n    <tr>\n      <th>4</th>\n      <td>Alabama</td>\n      <td>Male</td>\n      <td>25 and older</td>\n      <td>405618</td>\n      <td>159366</td>\n      <td>26004</td>\n      <td>113909</td>\n      <td>29490</td>\n      <td>76849</td>\n    </tr>\n    <tr>\n      <th>...</th>\n      <td>...</td>\n      <td>...</td>\n      <td>...</td>\n      <td>...</td>\n      <td>...</td>\n      <td>...</td>\n      <td>...</td>\n      <td>...</td>\n      <td>...</td>\n    </tr>\n    <tr>\n      <th>598</th>\n      <td>Wisconsin</td>\n      <td>Female</td>\n      <td>40 to 64</td>\n      <td>315212</td>\n      <td>72205</td>\n      <td>50705</td>\n      <td>66090</td>\n      <td>59371</td>\n      <td>66841</td>\n    </tr>\n    <tr>\n      <th>599</th>\n      <td>Wisconsin</td>\n      <td>Female</td>\n      <td>65 and older</td>\n      <td>124349</td>\n      <td>18527</td>\n      <td>21247</td>\n      <td>7965</td>\n      <td>49968</td>\n      <td>26642</td>\n    </tr>\n    <tr>\n      <th>600</th>\n      <td>Wyoming</td>\n      <td>Total</td>\n      <td>25 and older</td>\n      <td>113557</td>\n      <td>41541</td>\n      <td>11843</td>\n      <td>16670</td>\n      <td>22550</td>\n      <td>20953</td>\n    </tr>\n    <tr>\n      <th>602</th>\n      <td>Wyoming</td>\n      <td>Total</td>\n      <td>40 to 64</td>\n      <td>50686</td>\n      <td>16255</td>\n      <td>5424</td>\n      <td>8904</td>\n      <td>10707</td>\n      <td>9396</td>\n    </tr>\n    <tr>\n      <th>608</th>\n      <td>Wyoming</td>\n      <td>Female</td>\n      <td>25 and older</td>\n      <td>59074</td>\n      <td>15570</td>\n      <td>8470</td>\n      <td>6856</td>\n      <td>16638</td>\n      <td>11540</td>\n    </tr>\n  </tbody>\n</table>\n<p>468 rows × 9 columns</p>\n</div>"
     },
     "execution_count": 101,
     "metadata": {},
     "output_type": "execute_result"
    }
   ],
   "source": [
    "filtered_data_education = df[df['Education'] > 10000]\n",
    "\n",
    "filtered_data_education"
   ],
   "metadata": {
    "collapsed": false,
    "ExecuteTime": {
     "end_time": "2023-10-08T19:49:35.719826Z",
     "start_time": "2023-10-08T19:49:35.700526Z"
    }
   },
   "id": "6c9c2a576b63d6ec"
  },
  {
   "cell_type": "markdown",
   "source": [
    "Мы отфильтровали данные для держателей степени бакалавра в области образования (Education), у которых более 10 000 дипломов"
   ],
   "metadata": {
    "collapsed": false
   },
   "id": "6cf71290244336f7"
  },
  {
   "cell_type": "code",
   "execution_count": 102,
   "outputs": [
    {
     "data": {
      "text/plain": "         State     Sex     Age Group  Bachelor's Degree Holders  \\\n0      Alabama   Total  25 and older                     885357   \n1      Alabama   Total      25 to 39                     268924   \n2      Alabama   Total      40 to 64                     418480   \n3      Alabama   Total  65 and older                     197953   \n4      Alabama    Male  25 and older                     405618   \n..         ...     ...           ...                        ...   \n593  Wisconsin    Male      25 to 39                     179441   \n594  Wisconsin    Male      40 to 64                     267079   \n596  Wisconsin  Female  25 and older                     678458   \n597  Wisconsin  Female      25 to 39                     238897   \n598  Wisconsin  Female      40 to 64                     315212   \n\n     Science and Engineering  Science and Engineering Related Fields  \\\n0                     263555                                   98445   \n1                      90736                                   32378   \n2                     115762                                   46724   \n3                      57057                                   19343   \n4                     159366                                   26004   \n..                       ...                                     ...   \n593                    80561                                    9130   \n594                   109918                                   18683   \n596                   157128                                  110228   \n597                    66396                                   38276   \n598                    72205                                   50705   \n\n     Business  Education  Arts, Humanities and Others  \n0      210147     141071                       172139  \n1       58515      29342                        57953  \n2      112271      63875                        79848  \n3       39361      47854                        34338  \n4      113909      29490                        76849  \n..        ...        ...                          ...  \n593     42710       8046                        38994  \n594     65988      21828                        50662  \n596    115325     141116                       154661  \n597     41270      31777                        61178  \n598     66090      59371                        66841  \n\n[396 rows x 9 columns]",
      "text/html": "<div>\n<style scoped>\n    .dataframe tbody tr th:only-of-type {\n        vertical-align: middle;\n    }\n\n    .dataframe tbody tr th {\n        vertical-align: top;\n    }\n\n    .dataframe thead th {\n        text-align: right;\n    }\n</style>\n<table border=\"1\" class=\"dataframe\">\n  <thead>\n    <tr style=\"text-align: right;\">\n      <th></th>\n      <th>State</th>\n      <th>Sex</th>\n      <th>Age Group</th>\n      <th>Bachelor's Degree Holders</th>\n      <th>Science and Engineering</th>\n      <th>Science and Engineering Related Fields</th>\n      <th>Business</th>\n      <th>Education</th>\n      <th>Arts, Humanities and Others</th>\n    </tr>\n  </thead>\n  <tbody>\n    <tr>\n      <th>0</th>\n      <td>Alabama</td>\n      <td>Total</td>\n      <td>25 and older</td>\n      <td>885357</td>\n      <td>263555</td>\n      <td>98445</td>\n      <td>210147</td>\n      <td>141071</td>\n      <td>172139</td>\n    </tr>\n    <tr>\n      <th>1</th>\n      <td>Alabama</td>\n      <td>Total</td>\n      <td>25 to 39</td>\n      <td>268924</td>\n      <td>90736</td>\n      <td>32378</td>\n      <td>58515</td>\n      <td>29342</td>\n      <td>57953</td>\n    </tr>\n    <tr>\n      <th>2</th>\n      <td>Alabama</td>\n      <td>Total</td>\n      <td>40 to 64</td>\n      <td>418480</td>\n      <td>115762</td>\n      <td>46724</td>\n      <td>112271</td>\n      <td>63875</td>\n      <td>79848</td>\n    </tr>\n    <tr>\n      <th>3</th>\n      <td>Alabama</td>\n      <td>Total</td>\n      <td>65 and older</td>\n      <td>197953</td>\n      <td>57057</td>\n      <td>19343</td>\n      <td>39361</td>\n      <td>47854</td>\n      <td>34338</td>\n    </tr>\n    <tr>\n      <th>4</th>\n      <td>Alabama</td>\n      <td>Male</td>\n      <td>25 and older</td>\n      <td>405618</td>\n      <td>159366</td>\n      <td>26004</td>\n      <td>113909</td>\n      <td>29490</td>\n      <td>76849</td>\n    </tr>\n    <tr>\n      <th>...</th>\n      <td>...</td>\n      <td>...</td>\n      <td>...</td>\n      <td>...</td>\n      <td>...</td>\n      <td>...</td>\n      <td>...</td>\n      <td>...</td>\n      <td>...</td>\n    </tr>\n    <tr>\n      <th>593</th>\n      <td>Wisconsin</td>\n      <td>Male</td>\n      <td>25 to 39</td>\n      <td>179441</td>\n      <td>80561</td>\n      <td>9130</td>\n      <td>42710</td>\n      <td>8046</td>\n      <td>38994</td>\n    </tr>\n    <tr>\n      <th>594</th>\n      <td>Wisconsin</td>\n      <td>Male</td>\n      <td>40 to 64</td>\n      <td>267079</td>\n      <td>109918</td>\n      <td>18683</td>\n      <td>65988</td>\n      <td>21828</td>\n      <td>50662</td>\n    </tr>\n    <tr>\n      <th>596</th>\n      <td>Wisconsin</td>\n      <td>Female</td>\n      <td>25 and older</td>\n      <td>678458</td>\n      <td>157128</td>\n      <td>110228</td>\n      <td>115325</td>\n      <td>141116</td>\n      <td>154661</td>\n    </tr>\n    <tr>\n      <th>597</th>\n      <td>Wisconsin</td>\n      <td>Female</td>\n      <td>25 to 39</td>\n      <td>238897</td>\n      <td>66396</td>\n      <td>38276</td>\n      <td>41270</td>\n      <td>31777</td>\n      <td>61178</td>\n    </tr>\n    <tr>\n      <th>598</th>\n      <td>Wisconsin</td>\n      <td>Female</td>\n      <td>40 to 64</td>\n      <td>315212</td>\n      <td>72205</td>\n      <td>50705</td>\n      <td>66090</td>\n      <td>59371</td>\n      <td>66841</td>\n    </tr>\n  </tbody>\n</table>\n<p>396 rows × 9 columns</p>\n</div>"
     },
     "execution_count": 102,
     "metadata": {},
     "output_type": "execute_result"
    }
   ],
   "source": [
    "filtered_data_arts = df[df['Arts, Humanities and Others'] > 30000]\n",
    "\n",
    "filtered_data_arts"
   ],
   "metadata": {
    "collapsed": false,
    "ExecuteTime": {
     "end_time": "2023-10-08T19:49:42.428075Z",
     "start_time": "2023-10-08T19:49:42.416126Z"
    }
   },
   "id": "816b94ad7196961f"
  },
  {
   "cell_type": "markdown",
   "source": [
    "Мы отфильтровали данные для держателей степени бакалавра в областях искусства, гуманитарных наук и других областях (Arts, Humanities and Others), у которых более 30 000 дипломов\n"
   ],
   "metadata": {
    "collapsed": false
   },
   "id": "52f8462ea183593e"
  },
  {
   "cell_type": "code",
   "execution_count": 105,
   "outputs": [
    {
     "data": {
      "text/plain": "       State     Sex     Age Group  Bachelor's Degree Holders  \\\n0    Alabama   Total  25 and older                     885357   \n8    Alabama  Female  25 and older                     479739   \n2    Alabama   Total      40 to 64                     418480   \n4    Alabama    Male  25 and older                     405618   \n1    Alabama   Total      25 to 39                     268924   \n..       ...     ...           ...                        ...   \n606  Wyoming    Male      40 to 64                      24149   \n609  Wyoming  Female      25 to 39                      18180   \n607  Wyoming    Male  65 and older                      16482   \n611  Wyoming  Female  65 and older                      14357   \n605  Wyoming    Male      25 to 39                      13852   \n\n     Science and Engineering  Science and Engineering Related Fields  \\\n0                     263555                                   98445   \n8                     104189                                   72441   \n2                     115762                                   46724   \n4                     159366                                   26004   \n1                      90736                                   32378   \n..                       ...                                     ...   \n606                    11145                                    1230   \n609                     6708                                    2268   \n607                     9375                                    1145   \n611                     3752                                    2008   \n605                     5451                                     998   \n\n     Business  Education  Arts, Humanities and Others  \n0      210147     141071                       172139  \n8       96238     111581                        95290  \n2      112271      63875                        79848  \n4      113909      29490                        76849  \n1       58515      29342                        57953  \n..        ...        ...                          ...  \n606      5077       2700                         3997  \n609      1936       3313                         3955  \n607      2011       2378                         1573  \n611      1093       5318                         2186  \n605      2726        834                         3843  \n\n[612 rows x 9 columns]",
      "text/html": "<div>\n<style scoped>\n    .dataframe tbody tr th:only-of-type {\n        vertical-align: middle;\n    }\n\n    .dataframe tbody tr th {\n        vertical-align: top;\n    }\n\n    .dataframe thead th {\n        text-align: right;\n    }\n</style>\n<table border=\"1\" class=\"dataframe\">\n  <thead>\n    <tr style=\"text-align: right;\">\n      <th></th>\n      <th>State</th>\n      <th>Sex</th>\n      <th>Age Group</th>\n      <th>Bachelor's Degree Holders</th>\n      <th>Science and Engineering</th>\n      <th>Science and Engineering Related Fields</th>\n      <th>Business</th>\n      <th>Education</th>\n      <th>Arts, Humanities and Others</th>\n    </tr>\n  </thead>\n  <tbody>\n    <tr>\n      <th>0</th>\n      <td>Alabama</td>\n      <td>Total</td>\n      <td>25 and older</td>\n      <td>885357</td>\n      <td>263555</td>\n      <td>98445</td>\n      <td>210147</td>\n      <td>141071</td>\n      <td>172139</td>\n    </tr>\n    <tr>\n      <th>8</th>\n      <td>Alabama</td>\n      <td>Female</td>\n      <td>25 and older</td>\n      <td>479739</td>\n      <td>104189</td>\n      <td>72441</td>\n      <td>96238</td>\n      <td>111581</td>\n      <td>95290</td>\n    </tr>\n    <tr>\n      <th>2</th>\n      <td>Alabama</td>\n      <td>Total</td>\n      <td>40 to 64</td>\n      <td>418480</td>\n      <td>115762</td>\n      <td>46724</td>\n      <td>112271</td>\n      <td>63875</td>\n      <td>79848</td>\n    </tr>\n    <tr>\n      <th>4</th>\n      <td>Alabama</td>\n      <td>Male</td>\n      <td>25 and older</td>\n      <td>405618</td>\n      <td>159366</td>\n      <td>26004</td>\n      <td>113909</td>\n      <td>29490</td>\n      <td>76849</td>\n    </tr>\n    <tr>\n      <th>1</th>\n      <td>Alabama</td>\n      <td>Total</td>\n      <td>25 to 39</td>\n      <td>268924</td>\n      <td>90736</td>\n      <td>32378</td>\n      <td>58515</td>\n      <td>29342</td>\n      <td>57953</td>\n    </tr>\n    <tr>\n      <th>...</th>\n      <td>...</td>\n      <td>...</td>\n      <td>...</td>\n      <td>...</td>\n      <td>...</td>\n      <td>...</td>\n      <td>...</td>\n      <td>...</td>\n      <td>...</td>\n    </tr>\n    <tr>\n      <th>606</th>\n      <td>Wyoming</td>\n      <td>Male</td>\n      <td>40 to 64</td>\n      <td>24149</td>\n      <td>11145</td>\n      <td>1230</td>\n      <td>5077</td>\n      <td>2700</td>\n      <td>3997</td>\n    </tr>\n    <tr>\n      <th>609</th>\n      <td>Wyoming</td>\n      <td>Female</td>\n      <td>25 to 39</td>\n      <td>18180</td>\n      <td>6708</td>\n      <td>2268</td>\n      <td>1936</td>\n      <td>3313</td>\n      <td>3955</td>\n    </tr>\n    <tr>\n      <th>607</th>\n      <td>Wyoming</td>\n      <td>Male</td>\n      <td>65 and older</td>\n      <td>16482</td>\n      <td>9375</td>\n      <td>1145</td>\n      <td>2011</td>\n      <td>2378</td>\n      <td>1573</td>\n    </tr>\n    <tr>\n      <th>611</th>\n      <td>Wyoming</td>\n      <td>Female</td>\n      <td>65 and older</td>\n      <td>14357</td>\n      <td>3752</td>\n      <td>2008</td>\n      <td>1093</td>\n      <td>5318</td>\n      <td>2186</td>\n    </tr>\n    <tr>\n      <th>605</th>\n      <td>Wyoming</td>\n      <td>Male</td>\n      <td>25 to 39</td>\n      <td>13852</td>\n      <td>5451</td>\n      <td>998</td>\n      <td>2726</td>\n      <td>834</td>\n      <td>3843</td>\n    </tr>\n  </tbody>\n</table>\n<p>612 rows × 9 columns</p>\n</div>"
     },
     "execution_count": 105,
     "metadata": {},
     "output_type": "execute_result"
    }
   ],
   "source": [
    "sorted_data = df.sort_values(by = ['State', 'Bachelor\\'s Degree Holders', 'Science and Engineering'],\n",
    "\t\t\t\t\t\t\t ascending = [True, False, False])\n",
    "\n",
    "sorted_data"
   ],
   "metadata": {
    "collapsed": false,
    "ExecuteTime": {
     "end_time": "2023-10-08T19:52:36.863952Z",
     "start_time": "2023-10-08T19:52:36.852691Z"
    }
   },
   "id": "1a8942908a5f9dd8"
  },
  {
   "cell_type": "markdown",
   "source": [
    "Мы отсортировали данные сначала по штатам в алфавитном порядке, затем в убывающем порядке по числу держателей степени бакалавра и, наконец, в убывающем порядке по числу держателей степени бакалавра в области науки и инженерии. Это позволит нам увидеть, какие штаты имеют наибольшее количество держателей степени бакалавра и сколько из них обучались в области науки и инженерии"
   ],
   "metadata": {
    "collapsed": false
   },
   "id": "7b19518f4afda05c"
  }
 ],
 "metadata": {
  "kernelspec": {
   "display_name": "Python 3",
   "language": "python",
   "name": "python3"
  },
  "language_info": {
   "codemirror_mode": {
    "name": "ipython",
    "version": 2
   },
   "file_extension": ".py",
   "mimetype": "text/x-python",
   "name": "python",
   "nbconvert_exporter": "python",
   "pygments_lexer": "ipython2",
   "version": "2.7.6"
  }
 },
 "nbformat": 4,
 "nbformat_minor": 5
}
