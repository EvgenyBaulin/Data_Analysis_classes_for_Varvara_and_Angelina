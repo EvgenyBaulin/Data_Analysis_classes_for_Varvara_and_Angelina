{
 "cells": [
  {
   "cell_type": "markdown",
   "source": [
    "Анализируем датасэт с информацией об атлетах участвовавших в Олимпийских играх (olymp.csv). Скачайте его. Разделитель запятая.\n",
    "\n",
    "Данные содержат следующие признаки:\n",
    "**ID** - уникальный номер спортсмена\n",
    "**Name** - имя атлета\n",
    "**Sex** - пол (мужской - M,  женский - F)\n",
    "**Age** - возраст атлета\n",
    "**Height** - рост (в см)\n",
    "**Weight** - вес (в кг)\n",
    "**Team** - cтрана\n",
    "**NOC** - код страны от Олимпийского комитета (3 буквы)\n",
    "**Games** - год и сезон Олимпийских игр\n",
    "**Year** - год Олимпийских игр\n",
    "**Season** - сезон (Зимние - Winter,  Лето - Summer)\n",
    "**City** - город проведения Олимпийских игр\n",
    "**Sport** - спортивная дисциплина\n",
    "**Event** - категория спортивной дисциплины\n",
    "**Medal** - достоинство медали (Золото - Gold, Серебро - Silver, Бронза - Bronze, Без медали - NaN)"
   ],
   "metadata": {
    "collapsed": false
   },
   "id": "e738acb69eeefe57"
  },
  {
   "cell_type": "markdown",
   "source": [
    "## Вопрос 1\n",
    "\n",
    "Найдите год проведения Олимпиады, в который средний возраст атлетов был минимальный\n",
    "\n",
    "АЛГОРИТМ РЕШЕНИЯ\n",
    "\n",
    "Сгруппируйте данные: столбец группировки год/игра (Year/Games), столбец агрегирования возраст (Age), метод агрегирования среднее\n",
    "Отсортируйте данные по возрастанию с помощью .sort_values()"
   ],
   "metadata": {
    "collapsed": false
   },
   "id": "bda3467a80faf2ce"
  },
  {
   "cell_type": "code",
   "execution_count": 50,
   "id": "initial_id",
   "metadata": {
    "collapsed": true,
    "ExecuteTime": {
     "end_time": "2023-10-06T14:17:25.460999Z",
     "start_time": "2023-10-06T14:17:25.132468Z"
    }
   },
   "outputs": [
    {
     "name": "stdout",
     "output_type": "stream",
     "text": [
      "1896\n"
     ]
    }
   ],
   "source": [
    "import pandas as pd\n",
    "\n",
    "# Загрузим датасет\n",
    "df = pd.read_csv('olymp.csv', delimiter = ',')\n",
    "\n",
    "# Группируем данные по годам и вычисляем средний возраст для каждого года\n",
    "average_age_by_year = df.groupby('Year')['Age'].mean()\n",
    "\n",
    "# Находим год с минимальным средним возрастом\n",
    "min_year = average_age_by_year.idxmin()\n",
    "\n",
    "print(int(min_year))"
   ]
  },
  {
   "cell_type": "markdown",
   "source": [
    "Год проведения Олимпиады с минимальным средним возрастом атлетов: 1896"
   ],
   "metadata": {
    "collapsed": false
   },
   "id": "5455ca384d1d8118"
  },
  {
   "cell_type": "markdown",
   "source": [
    "## Вопрос 2\n",
    "\n",
    "Какой вид спорта (Sport) является самым многочисленным с точки зрения количества уникальных атлетов, принявших в нем участие?"
   ],
   "metadata": {
    "collapsed": false
   },
   "id": "cd6c233e5f5bfef9"
  },
  {
   "cell_type": "code",
   "execution_count": 51,
   "outputs": [
    {
     "name": "stdout",
     "output_type": "stream",
     "text": [
      "Athletics\n"
     ]
    }
   ],
   "source": [
    "# Используем метод nunique() для подсчета уникальных атлетов по виду спорта (Sport)\n",
    "athlete_count_by_sport = df.groupby('Sport')['ID'].nunique()\n",
    "\n",
    "# Найдем вид спорта с максимальным количеством уникальных атлетов\n",
    "most_popular_sport = athlete_count_by_sport.idxmax()\n",
    "\n",
    "print(most_popular_sport)"
   ],
   "metadata": {
    "collapsed": false,
    "ExecuteTime": {
     "end_time": "2023-10-06T14:17:25.502428Z",
     "start_time": "2023-10-06T14:17:25.464667Z"
    }
   },
   "id": "1b17c334fada0420"
  },
  {
   "cell_type": "markdown",
   "source": [
    "Самый многочисленный вид спорта по количеству уникальных атлетов: Athletics"
   ],
   "metadata": {
    "collapsed": false
   },
   "id": "1a553422f26da559"
  },
  {
   "cell_type": "markdown",
   "source": [
    "## Вопрос 3\n",
    "\n",
    "Выясните, атлеты из какой страны (Team) завоевали наибольшее количество золотых медалей на Зимней Олимпиаде 1984 года\n",
    "\n",
    "АЛГОРИТМ РЕШЕНИЯ\n",
    "Сделайте фильтрацию и оставьте только атлетов завоевавших золотые медали на Зимней Олимпиаде 1984 года\n",
    "На отфильтрованных данных постройте сводную таблицу: в рядах должны быть названия стран (Team), в колонке ID атлета, в ячейках уникальное количество атлетов из каждой страны. Чтобы получить количество уникальных атлетов воспользуйтесь методом агрегирования .nunique()\n",
    "Отсортируйте данные по убыванию"
   ],
   "metadata": {
    "collapsed": false
   },
   "id": "113cfa306ead5eba"
  },
  {
   "cell_type": "code",
   "execution_count": 52,
   "outputs": [
    {
     "name": "stdout",
     "output_type": "stream",
     "text": [
      "Soviet Union\n"
     ]
    }
   ],
   "source": [
    "# Оставим только атлетов, завоевавших золотые медали на Зимней Олимпиаде 1984 года\n",
    "winter_1984_gold_medalists = df[(df['Season'] == 'Winter') & (df['Year'] == 1984) & (df['Medal'] == 'Gold')]\n",
    "\n",
    "# Создадим сводную таблицу, где строки будут странами (Team), а в колонках будут ID атлетов, считаем уникальные значения\n",
    "unique_athletes_by_team = winter_1984_gold_medalists.pivot_table(index = 'Team', values = 'ID', aggfunc = 'nunique')\n",
    "\n",
    "# Отсортируем данные по убыванию количества уникальных атлетов\n",
    "most_gold_medals_country = unique_athletes_by_team.sort_values(by = 'ID', ascending = False).index[0]\n",
    "\n",
    "print(most_gold_medals_country)"
   ],
   "metadata": {
    "collapsed": false,
    "ExecuteTime": {
     "end_time": "2023-10-06T14:17:25.521086Z",
     "start_time": "2023-10-06T14:17:25.510449Z"
    }
   },
   "id": "1588f2c5a30a7a5a"
  },
  {
   "cell_type": "markdown",
   "source": [
    "Страна с наибольшим количеством золотых медалей на Зимней Олимпиаде 1984 года:Soviet Union"
   ],
   "metadata": {
    "collapsed": false
   },
   "id": "5cff8c444eaeedc3"
  },
  {
   "cell_type": "markdown",
   "source": [
    "## Вопрос 4\n",
    "\n",
    "Определите минимальное значение разницы между максимальным ростом и весом атлетов из определенной страны. В ответ запишите положительное целое число\n",
    "\n",
    "АЛГОРИТМ РЕШЕНИЯ\n",
    "\n",
    "Создайте сводную таблицу: в рядах - короткое название страны (NOC), в колонках - рост (Height) и вес (Weight) атлетов, в ячейках максимальное значение роста и веса по каждой стране\n",
    "В получившейся сводной таблице создайте новый признак, который будет рассчитан как разность между ростом и весом (по модулю)\n",
    "По новому признаку найдите минимум"
   ],
   "metadata": {
    "collapsed": false
   },
   "id": "bfa043314ad6d006"
  },
  {
   "cell_type": "code",
   "execution_count": 53,
   "outputs": [
    {
     "name": "stdout",
     "output_type": "stream",
     "text": [
      "21\n"
     ]
    }
   ],
   "source": [
    "# Создадим сводную таблицу с максимальными значениями роста и веса по каждой стране (NOC)\n",
    "pivot_table = df.pivot_table(index = 'NOC', values = ['Height', 'Weight'], aggfunc = 'max')\n",
    "\n",
    "# Создадим новый признак как разницу между максимальным ростом и весом (по модулю)\n",
    "pivot_table['Height_Weight_Diff'] = abs(pivot_table['Height'] - pivot_table['Weight'])\n",
    "\n",
    "# Найдем минимальное значение разницы между максимальным ростом и весом\n",
    "min_difference = pivot_table['Height_Weight_Diff'].min()\n",
    "\n",
    "print(int(min_difference))"
   ],
   "metadata": {
    "collapsed": false,
    "ExecuteTime": {
     "end_time": "2023-10-06T14:17:25.553630Z",
     "start_time": "2023-10-06T14:17:25.522697Z"
    }
   },
   "id": "5d40a383d3f9df66"
  },
  {
   "cell_type": "markdown",
   "source": [
    "Минимальное значение разницы между максимальным ростом и весом атлетов: 21"
   ],
   "metadata": {
    "collapsed": false
   },
   "id": "7fc5d97479eede23"
  },
  {
   "cell_type": "markdown",
   "source": [
    "## Вопрос 5\n",
    "\n",
    "Определите количество атлетов из Советского Союза (Soviet Union) чей процент успеха на олимпиаде не менее 50%. Показатель процента успеха рассчитывается как частное (количество завоеванных медалей к количеству категорий спортивных дисциплин, в которых они приняли участие) умноженное на 100.\n",
    "\n",
    "АЛГОРИТМ РЕШЕНИЯ\n",
    "\n",
    "Сделайте фильтрацию и оставьте только атлетов из Советского союза\n",
    "По отфильтрованным данным создайте сводную таблицу: в рядах - уникальный номер атлета (ID), в столбцах -  категория спортивной дисциплины (Event) и медали (Medal), в ячейках - количество категорий спортивных дисциплин и количество медалей для каждого атлета. Сохраните сгруппированные данные в новую переменную\n",
    "В получившемся датафрейме создайте новый признак процента успеха\n",
    "Сделайте фильтрацию по новому признаку"
   ],
   "metadata": {
    "collapsed": false
   },
   "id": "133eaa2c8fc8de3c"
  },
  {
   "cell_type": "code",
   "execution_count": 54,
   "outputs": [
    {
     "name": "stdout",
     "output_type": "stream",
     "text": [
      "0\n"
     ]
    }
   ],
   "source": [
    "# Фильтруем данные для атлетов из Советского Союза\n",
    "soviet_union_df = df[df['Team'] == 'Soviet Union']\n",
    "\n",
    "# Создаем сводную таблицу, где строки - уникальные номера атлетов (ID), столбцы - категории спортивных дисциплин (Event) и медали (Medal), а значения - количество категорий спортивных дисциплин и количество медалей для каждого атлета\n",
    "pivot_table = soviet_union_df.pivot_table(index = 'ID', columns = ['Event', 'Medal'], values = 'Year',\n",
    "\t\t\t\t\t\t\t\t\t\t  aggfunc = 'count', fill_value = 0)\n",
    "\n",
    "# Создаем новый признак \"Процент успеха\" для каждого атлета\n",
    "pivot_table['Success_Rate'] = (pivot_table.sum(axis = 1) / pivot_table.count(axis = 1)) * 100\n",
    "\n",
    "# Фильтруем атлетов, чей процент успеха не менее 50%\n",
    "athletes_with_success_rate_above_50 = pivot_table[pivot_table['Success_Rate'] >= 50]\n",
    "\n",
    "# Подсчитываем количество таких атлетов\n",
    "count_athletes_above_50_percent = len(athletes_with_success_rate_above_50)\n",
    "\n",
    "print(count_athletes_above_50_percent)\n"
   ],
   "metadata": {
    "collapsed": false,
    "ExecuteTime": {
     "end_time": "2023-10-06T14:17:25.566094Z",
     "start_time": "2023-10-06T14:17:25.545631Z"
    }
   },
   "id": "f5f1ad6fe9e319e7"
  },
  {
   "cell_type": "markdown",
   "source": [
    "Количество атлетов из Советского Союза с процентом успеха не менее 50%: 0"
   ],
   "metadata": {
    "collapsed": false
   },
   "id": "d3aebb838fa9b476"
  },
  {
   "cell_type": "markdown",
   "source": [
    "## Вопрос 6\n",
    "\n",
    "Определите количество Олимпиад, на которых доля женщин больше, чем средняя доля их участия в целом\n",
    "\n",
    "АЛГОРИТМ РЕШЕНИЯ\n",
    "\n",
    "Создайте сводную таблицу: в рядах - олимпиада (Games), в колонке - уникальный номер атлета (ID), в ячейках  - количество уникальных атлетов в каждому году. Сохраните сводную таблицу в переменную\n",
    "Создайте сводную таблицу только по женщинам: в рядах - олимпиада (Games), в колонке - уникальный номер атлетки (ID), в ячейках  - количество уникальных атлеток в каждому году. Сохраните сводную таблицу в переменную\n",
    "Найдите долю женщин в каждому году (найдите частное сводных таблиц). Получившуюся таблицу сохраните в новую переменную\n",
    "Сделайте фильтрацию и оставьте, только те Олимпиады, где доля женщин больше чем среднее значение доли их участия\n",
    "Посчитайте количество таких Олимпиад с метода .count()"
   ],
   "metadata": {
    "collapsed": false
   },
   "id": "ec13a1bdd2f2c6e5"
  },
  {
   "cell_type": "code",
   "execution_count": 55,
   "outputs": [
    {
     "name": "stdout",
     "output_type": "stream",
     "text": [
      "ID    24\n",
      "dtype: int64\n"
     ]
    }
   ],
   "source": [
    "# Создаем сводную таблицу, где строки - олимпиада (Games), столбцы - уникальные номера атлетов (ID), значения - количество уникальных атлетов для каждой олимпиады\n",
    "athlete_count_by_year = df.pivot_table(index = 'Games', values = 'ID', aggfunc = 'nunique')\n",
    "\n",
    "# Создаем сводную таблицу только для женщин, где строки - олимпиада (Games), столбцы - уникальные номера атлеток (ID), значения - количество уникальных атлеток для каждой олимпиады\n",
    "female_athlete_count_by_year = df[df['Sex'] == 'F'].pivot_table(index = 'Games', values = 'ID', aggfunc = 'nunique')\n",
    "\n",
    "# Вычисляем долю женщин в каждой олимпиаде\n",
    "female_percentage_by_year = female_athlete_count_by_year / athlete_count_by_year\n",
    "\n",
    "# Находим среднюю долю женщин по всем олимпиадам\n",
    "mean_female_percentage = female_percentage_by_year.mean()\n",
    "\n",
    "# Фильтруем олимпиады, где доля женщин больше средней доли\n",
    "olympics_with_above_average_female_percentage = female_percentage_by_year[\n",
    "\tfemale_percentage_by_year > mean_female_percentage]\n",
    "\n",
    "# Подсчитываем количество таких олимпиад\n",
    "count_olympics_with_above_average_female_percentage = olympics_with_above_average_female_percentage.count()\n",
    "\n",
    "print(count_olympics_with_above_average_female_percentage)"
   ],
   "metadata": {
    "collapsed": false,
    "ExecuteTime": {
     "end_time": "2023-10-06T14:17:25.633328Z",
     "start_time": "2023-10-06T14:17:25.563910Z"
    }
   },
   "id": "9c806b7d468a69c9"
  },
  {
   "cell_type": "markdown",
   "source": [
    "Количество Олимпиад, на которых доля женщин больше средней доли их участия: "
   ],
   "metadata": {
    "collapsed": false
   },
   "id": "ea0c7c5d8442947b"
  },
  {
   "cell_type": "markdown",
   "source": [
    "## Вопрос 7\n",
    "\n",
    "Создайте функцию medal_weight, которая на основании столбца Medal, определяет количество очков за медали разного достоинства:\n",
    "\n",
    "3 - Gold\n",
    "2 - Silver\n",
    "1 - Bronze\n",
    "0 - NaN"
   ],
   "metadata": {
    "collapsed": false
   },
   "id": "1e7afbb8841ac0d7"
  },
  {
   "cell_type": "code",
   "execution_count": 56,
   "outputs": [
    {
     "name": "stdout",
     "output_type": "stream",
     "text": [
      "  Medal  MedalWeight\n",
      "0   NaN            0\n",
      "1   NaN            0\n",
      "2   NaN            0\n",
      "3  Gold            3\n",
      "4   NaN            0\n"
     ]
    }
   ],
   "source": [
    "# Определение функции medal_weight\n",
    "def medal_weight(medal):\n",
    "\tif medal == 'Gold':\n",
    "\t\treturn 3\n",
    "\telif medal == 'Silver':\n",
    "\t\treturn 2\n",
    "\telif medal == 'Bronze':\n",
    "\t\treturn 1\n",
    "\telse:\n",
    "\t\treturn 0\n",
    "\n",
    "\n",
    "# Применение функции к столбцу \"Medal\" и создание нового столбца \"MedalWeight\"\n",
    "df['MedalWeight'] = df['Medal'].apply(medal_weight)\n",
    "\n",
    "# Вывод первых нескольких строк для проверки\n",
    "print(df[['Medal', 'MedalWeight']].head())"
   ],
   "metadata": {
    "collapsed": false,
    "ExecuteTime": {
     "end_time": "2023-10-06T14:17:25.682070Z",
     "start_time": "2023-10-06T14:17:25.673655Z"
    }
   },
   "id": "7d86e04b483f239e"
  },
  {
   "cell_type": "markdown",
   "source": [
    "```python\n",
    "# Определение функции medal_weight\n",
    "def medal_weight(medal):\n",
    "    if medal == 'Gold':\n",
    "        return 3\n",
    "    elif medal == 'Silver':\n",
    "        return 2\n",
    "    elif medal == 'Bronze':\n",
    "        return 1\n",
    "    else:\n",
    "        return 0\n",
    "\n",
    "# Применение функции к столбцу \"Medal\" и создание нового столбца \"MedalWeight\"\n",
    "df['MedalWeight'] = df['Medal'].apply(medal_weight)\n",
    "\n",
    "# Вывод первых нескольких строк для проверки\n",
    "print(df[['Medal', 'MedalWeight']].head())\n",
    "```"
   ],
   "metadata": {
    "collapsed": false
   },
   "id": "4f7155a0f5d66032"
  },
  {
   "cell_type": "markdown",
   "source": [
    "## Вопрос 8\n",
    "\n",
    "Датафрейм лежит в переменной olmp. Примените функцию созданную в прошлом задании к столбцу Medal и создайте новый признак Medal_score в датафрейме olmp."
   ],
   "metadata": {
    "collapsed": false
   },
   "id": "69aac714597b4d4"
  },
  {
   "cell_type": "code",
   "execution_count": 57,
   "outputs": [],
   "source": [
    "df['Medal_score'] = df['Medal'].apply(medal_weight)"
   ],
   "metadata": {
    "collapsed": false,
    "ExecuteTime": {
     "end_time": "2023-10-06T14:17:25.724700Z",
     "start_time": "2023-10-06T14:17:25.679631Z"
    }
   },
   "id": "b49c86061abf8e4b"
  },
  {
   "cell_type": "markdown",
   "source": [
    "```python\n",
    "# Применение функции к столбцу \"Medal\" и создание нового признака \"Medal_score\"\n",
    "olmp['Medal_score'] = olmp['Medal'].apply(medal_weight)\n",
    "```"
   ],
   "metadata": {
    "collapsed": false
   },
   "id": "d9bdf765919c3633"
  },
  {
   "cell_type": "markdown",
   "source": [
    "## Вопрос 9\n",
    "\n",
    "Определите тип данных с точки зрения анализа в новом столбце Medal_score\n",
    "\n",
    "Вопрос 9\n",
    "\n",
    "- категориальный порядковый\n",
    "- числовой дискретный\n",
    "- категориальный номинальный бинарный\n",
    "- категориальный номинальный\n",
    "- числовой непрерывный"
   ],
   "metadata": {
    "collapsed": false
   },
   "id": "88ed45a24b99b4c0"
  },
  {
   "cell_type": "code",
   "execution_count": 58,
   "outputs": [
    {
     "name": "stdout",
     "output_type": "stream",
     "text": [
      "Тип данных в столбце 'Medal_score': int64\n"
     ]
    }
   ],
   "source": [
    "# Определяем тип данных в столбце 'Medal_score'\n",
    "data_type_medal_score = df['Medal_score'].dtype\n",
    "\n",
    "# Выводим тип данных\n",
    "print(\"Тип данных в столбце 'Medal_score':\", data_type_medal_score)"
   ],
   "metadata": {
    "collapsed": false,
    "ExecuteTime": {
     "end_time": "2023-10-06T14:17:25.729193Z",
     "start_time": "2023-10-06T14:17:25.725475Z"
    }
   },
   "id": "9031fbf03edeb40d"
  },
  {
   "cell_type": "markdown",
   "source": [
    "Тип данных в новом столбце \"Medal_score\" является числовым дискретным. Этот столбец содержит целые числа, представляющие количество очков за медали разного достоинства (3, 2, 1, 0)."
   ],
   "metadata": {
    "collapsed": false
   },
   "id": "5552f346c6bcf8c0"
  },
  {
   "cell_type": "markdown",
   "source": [
    "## Вопрос 10\n",
    "\n",
    "Узнайте имя атлета (Name), который получил суммарно больше всего очков по новому столбцу Medal_score"
   ],
   "metadata": {
    "collapsed": false
   },
   "id": "f7a35c228a03ef61"
  },
  {
   "cell_type": "code",
   "execution_count": 59,
   "outputs": [
    {
     "name": "stdout",
     "output_type": "stream",
     "text": [
      "Michael Fred Phelps, II\n"
     ]
    }
   ],
   "source": [
    "# Группируем данные по имени атлета и суммируем их Medal_score\n",
    "athlete_scores = df.groupby('Name')['Medal_score'].sum()\n",
    "\n",
    "# Находим имя атлета с наибольшей суммой очков\n",
    "top_athlete = athlete_scores.idxmax()\n",
    "\n",
    "print(top_athlete)"
   ],
   "metadata": {
    "collapsed": false,
    "ExecuteTime": {
     "end_time": "2023-10-06T14:17:25.834179Z",
     "start_time": "2023-10-06T14:17:25.731168Z"
    }
   },
   "id": "3bb584e1de4c5560"
  },
  {
   "cell_type": "markdown",
   "source": [
    "Имя атлета с наибольшей суммой очков: Michael Fred Phelps, II"
   ],
   "metadata": {
    "collapsed": false
   },
   "id": "91004e60bcb5d15d"
  }
 ],
 "metadata": {
  "kernelspec": {
   "display_name": "Python 3",
   "language": "python",
   "name": "python3"
  },
  "language_info": {
   "codemirror_mode": {
    "name": "ipython",
    "version": 2
   },
   "file_extension": ".py",
   "mimetype": "text/x-python",
   "name": "python",
   "nbconvert_exporter": "python",
   "pygments_lexer": "ipython2",
   "version": "2.7.6"
  }
 },
 "nbformat": 4,
 "nbformat_minor": 5
}
